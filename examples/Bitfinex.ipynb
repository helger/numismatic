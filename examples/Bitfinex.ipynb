{
 "cells": [
  {
   "cell_type": "code",
   "execution_count": null,
   "metadata": {},
   "outputs": [],
   "source": [
    "import asyncio\n",
    "from ipykernel.eventloops import register_integration\n",
    "\n",
    "@register_integration('asyncio')\n",
    "def loop_asyncio(kernel):\n",
    "    '''Start a kernel with asyncio event loop support.'''\n",
    "    loop = asyncio.get_event_loop()\n",
    "\n",
    "    def kernel_handler():\n",
    "        loop.call_soon(kernel.do_one_iteration)\n",
    "        loop.call_later(kernel._poll_interval, kernel_handler)\n",
    "\n",
    "    loop.call_soon(kernel_handler)\n",
    "    try:\n",
    "        if not loop.is_running():\n",
    "            loop.run_forever()\n",
    "    finally:\n",
    "        loop.run_until_complete(loop.shutdown_asyncgens())\n",
    "        loop.close()"
   ]
  },
  {
   "cell_type": "code",
   "execution_count": null,
   "metadata": {},
   "outputs": [],
   "source": [
    "%gui asyncio"
   ]
  },
  {
   "cell_type": "code",
   "execution_count": null,
   "metadata": {},
   "outputs": [],
   "source": [
    "import attr\n",
    "import pandas as pd\n",
    "from numismatic.feeds import BitfinexFeed\n",
    "from numismatic.events import PriceUpdate, Trade"
   ]
  },
  {
   "cell_type": "code",
   "execution_count": null,
   "metadata": {},
   "outputs": [],
   "source": [
    "bfx = BitfinexFeed()"
   ]
  },
  {
   "cell_type": "code",
   "execution_count": null,
   "metadata": {},
   "outputs": [],
   "source": [
    "subs = bfx.subscribe(['BTC'], ['USD'], channels='trades')"
   ]
  },
  {
   "cell_type": "code",
   "execution_count": null,
   "metadata": {},
   "outputs": [],
   "source": [
    "subs"
   ]
  },
  {
   "cell_type": "code",
   "execution_count": null,
   "metadata": {},
   "outputs": [],
   "source": [
    "sub = subs['Bitfinex~BTC~USD~TRADES']"
   ]
  },
  {
   "cell_type": "code",
   "execution_count": null,
   "metadata": {},
   "outputs": [],
   "source": [
    "trade_stream = sub.event_stream.filter(lambda ev: isinstance(ev, Trade))\n",
    "json_stream = trade_stream.map(lambda ev: ev.json())\n",
    "df_stream = trade_stream.map(lambda trade: pd.DataFrame(attr.asdict(trade), index=[pd.Timestamp.now()]))"
   ]
  },
  {
   "cell_type": "code",
   "execution_count": null,
   "metadata": {
    "scrolled": true
   },
   "outputs": [],
   "source": [
    "# sub.event_stream.sink(print)\n",
    "# json_stream.sink(print)\n",
    "# df_stream.sink(print)"
   ]
  },
  {
   "cell_type": "code",
   "execution_count": null,
   "metadata": {},
   "outputs": [],
   "source": [
    "trade_df = pd.DataFrame({attribute.name:[] for attribute in attr.fields(Trade)}, index=[])"
   ]
  },
  {
   "cell_type": "code",
   "execution_count": null,
   "metadata": {},
   "outputs": [],
   "source": [
    "from streamz.dataframe import StreamingDataFrame"
   ]
  },
  {
   "cell_type": "code",
   "execution_count": null,
   "metadata": {},
   "outputs": [],
   "source": [
    "sdf = StreamingDataFrame(df_stream, example=trade_df)"
   ]
  },
  {
   "cell_type": "code",
   "execution_count": null,
   "metadata": {},
   "outputs": [],
   "source": [
    "price = StreamingDataFrame({'price': sdf.price, 'ma(5)':sdf.price.rolling(5).mean()})"
   ]
  },
  {
   "cell_type": "code",
   "execution_count": null,
   "metadata": {},
   "outputs": [],
   "source": [
    "price.plot()"
   ]
  },
  {
   "cell_type": "code",
   "execution_count": null,
   "metadata": {},
   "outputs": [],
   "source": [
    "# price.stream.sink(print)"
   ]
  },
  {
   "cell_type": "code",
   "execution_count": null,
   "metadata": {},
   "outputs": [],
   "source": []
  }
 ],
 "metadata": {
  "kernelspec": {
   "display_name": "Python 3",
   "language": "python",
   "name": "python3"
  },
  "language_info": {
   "codemirror_mode": {
    "name": "ipython",
    "version": 3
   },
   "file_extension": ".py",
   "mimetype": "text/x-python",
   "name": "python",
   "nbconvert_exporter": "python",
   "pygments_lexer": "ipython3",
   "version": "3.6.3"
  }
 },
 "nbformat": 4,
 "nbformat_minor": 2
}
