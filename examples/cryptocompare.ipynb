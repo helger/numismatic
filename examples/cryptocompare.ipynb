{
 "cells": [
  {
   "cell_type": "markdown",
   "metadata": {},
   "source": [
    "# CryptoCompare API Examples\n",
    "\n",
    "This demonstrates how to use the CryptoCompare API from `Numismatic`."
   ]
  },
  {
   "cell_type": "code",
   "execution_count": 1,
   "metadata": {},
   "outputs": [],
   "source": [
    "from numismatic.feeds import Feed"
   ]
  },
  {
   "cell_type": "code",
   "execution_count": 2,
   "metadata": {},
   "outputs": [],
   "source": [
    "cc = Feed.factory('cryptocompare')"
   ]
  },
  {
   "cell_type": "code",
   "execution_count": 3,
   "metadata": {},
   "outputs": [
    {
     "data": {
      "text/plain": [
       "'Got info for 1817 digital assets.'"
      ]
     },
     "execution_count": 3,
     "metadata": {},
     "output_type": "execute_result"
    }
   ],
   "source": [
    "cc_list = cc.get_list()\n",
    "f'Got info for {len(cc_list)} digital assets.'"
   ]
  },
  {
   "cell_type": "code",
   "execution_count": 4,
   "metadata": {},
   "outputs": [
    {
     "data": {
      "text/plain": [
       "dict_keys(['USC', 'DUX', 'XPS', 'EQT', 'INSN', 'BAT', 'F16', 'HAMS', 'QTUM', 'NEF', 'ZEN', 'BOS', 'BTC', 'DIGS', 'GCR', 'MAPC', 'MI', 'ECC', 'ZRC', 'CON', 'NEU', 'CLV', 'LKK', 'DYN', 'SEQ', 'FCT', 'LYB', 'SKY', 'CVC', 'STA', 'TFL', 'BST', 'PXI', 'CPC', 'OBITS', 'RADS', 'EMC', 'BLITZ', 'HIRE*', 'I0C', 'KARM', 'EFYT', 'MCO', 'DCR', 'NAS2', 'ADX', 'QAU', 'ECOB', 'PLBT', 'USDT', 'DOGED', 'AHT', '4CHN', 'CMP', 'RVT', 'HRB', 'DNT', 'SUR', 'PING', 'MIV', 'REP', 'KIN', 'WGR', 'OK', 'XEL', 'NVST', 'FUN', 'FUNC', 'PQT', 'WTT', 'MTL', 'MYB', 'PPT', 'SNC', 'STAR', 'COR', 'XRL', 'OROC', 'MBI', 'DDF', 'DIM', 'GGS', 'DNA', 'FYN', 'DCY', 'CFT', 'DNR', 'VUC', 'BTPL', 'UNIFY', 'IPC', 'BRIT', 'AMMO', 'SOCC', 'MASS', 'IML', 'PLR', 'GUNS', 'PRO', 'AHT*', 'TRIBE', 'ZRX', 'TNT', 'COSS', 'STORM', 'UNIKRN', 'SCORE', 'OMG', 'EQB', 'CVCOIN', 'DRP', 'SAND', 'BOG', 'EDRC', 'UET', 'AGRS', 'XAI*', 'CAT', 'XCJ', 'ROOTS', 'SPN', 'KING', 'ANCP', 'RCC', 'SNK', 'OPT', 'BITSD', 'XLC', 'SKIN', 'MSP', 'HIRE', 'REAL', 'DFBT', 'EQ', 'ATOM*', 'ICOO', 'TME', 'WAVES', 'HTC', 'ONX', 'COE', 'DSH', 'WINK', 'DBIC', 'CRM', 'SPOTS', 'CAB', 'DIEM', 'GBT', 'SAR', 'RCX', 'PWR', 'TRUMP', 'PRM', 'SDAO', 'RBIES', 'SCOT', 'DNET', 'GRT', 'POST', 'PXL', 'NUM', 'SOUL', 'KCN', 'GROW', 'AUT', 'CTT', 'UNITY', 'OLDSF', 'SSTC', 'NETC', 'GPU', 'WNET', 'TAGR', 'ADZ', 'GAP', 'MYC', 'IVZ', 'VTA', 'SLS', 'SOIL', 'CUBE', 'APC', 'STEPS', 'UNIT', 'MOIN', 'SIB', 'ERC', 'GRWI', 'MNY', 'AIB', 'PRIME', 'BERN', 'BIGUP', 'KR', 'XRE', 'XDB', 'ANTI', 'BRK', 'MNM', 'ADCN', 'ZEIT', '611', 'CGA', 'SWING', 'NEBU', 'AEC', 'ADN', 'PULSE', 'N7', 'CCC', 'CYG', 'LGBTQ', 'UTH', 'MPRO', 'KAT', '404', 'SPM', 'MOJO', 'FLX', 'BMXT', 'GAS', 'BOLI', 'CLUD', 'FIL', 'FLY', 'HVCO', 'GIZ', 'GREXIT', 'CARBON', 'DEUR', 'OCL', 'BNC', 'TOM', 'TUR', 'LEMON', 'STS', 'DISK', 'NEVA', 'CYT', 'FUZZ', 'NKC', 'SCRT', 'XRA', 'XNX', 'STAR*', 'BTM*', 'XAS', 'SMNX', 'STHR', 'DBG', 'WMC', 'GOTX', 'FLVR', 'STA*', 'MBRS', 'MET', 'REV', 'PBC', 'OBS', 'EXIT', 'EDC', 'CLINT', 'CKC', 'PGL', 'NXE', 'ZOOM', 'DRACO', 'YOVI', 'ORLY', 'KUBO', 'INCP', 'SAK', 'EVIL', 'OMA', 'MUE', 'COX', 'BNT', 'EKO', 'BSD', 'DES', 'BIT16', 'PDC', 'CMT', 'DTCT', 'CHESS', 'SPACE', 'LQD', 'MARV', 'XDE2', 'VEC2', 'TKN*', 'CMPCO', 'THNX', 'WORM', 'FUCK', 'VNT', 'SIFT', 'IWT', 'JDC', 'ITT', 'MEDI', 'LIR', 'MMNXT', 'SCRPT', 'LBC', 'SPX', 'HGT', 'LTA', 'NIMFA', 'SCOR', 'MLS', 'BRO', 'MINEX', 'ARI*', 'LAT', 'CJ', 'SOJ', 'KRAK', 'STCN', 'DLISK', 'SQP', 'IBANK', 'LNK', 'WAN', 'BOU', 'TTT', 'VOYA', 'ENTER', 'GIM', 'WGC', 'BM', 'LBTC', 'EMT', 'GXC', 'HBT', 'KRONE', 'AVA', 'FRWC', 'PSY', 'XT', 'RUST', 'NZC', 'SNGLS', 'BT', 'ACC', 'Z2', 'BFX', 'LINX', 'XCXT', 'BLAS', 'GOOD', 'TRV', 'EON', 'PST', 'UNIQ', 'CRX', 'XPOKE', 'MUDRA', 'WARP', 'CNMT', 'PIZZA', 'LC', 'HEAT', 'ICN', 'EXB', 'WINGS', 'CDX', 'RBIT', 'DCS.', 'KMD', 'GB', 'NEO', 'ANC', 'MC', 'EDR', 'JWL', 'WAY', 'TAB', 'TRIG', 'BITCNY', 'BITUSD', 'STO', 'SNS', 'FSN', 'CTC', 'TOT', 'BTD', 'BOTS', 'MDC', 'FTP', 'ZET2', 'TELL', 'ENE', 'TDFB', 'BLOCKPAY', 'BXT', 'ZYD', 'MST', 'GOON', 'VLT', 'ZNE', 'DCK', 'COVAL', 'DGDC', 'TODAY', 'VRM', 'ROOT', '1ST', 'GPL', 'DOPE', 'FX', 'PIO', 'GAY', 'SMSR', 'UBIQ', 'ARM', 'RING', 'ERB', 'LAZ', 'FONZ', 'BTCR', 'DROP', 'SANDG', 'PNK', 'MOOND', 'DLC', 'SEN', 'SCN', 'WEX', 'LTH', 'BRONZ', 'SH', 'MG', 'PSI', 'XPO', 'NLC', 'PSB', 'XBTS', 'FIT', 'PINKX', 'FIRE', 'UNF', 'SPORT', 'PPY', 'NTC', 'EGO', 'BTCL', 'X2', 'MT', 'TIA', 'GBRC', 'XUP', 'HALLO', 'BBCC', 'EMIGR', 'BHC', 'CRAFT', 'INV', 'OLYMP', 'DPAY', 'ATOM', 'HKG', 'ANTC', 'JOBS', 'DGORE', 'TRA', 'RMS', 'FJC', 'WTC', 'BRX', 'VAPOR', 'RRT', 'XZC', 'PRE', 'CALC', 'ORME', 'CF', 'CRNK', 'CFC', 'VTY', 'SFE', 'ARDR', 'BS', 'JIF', 'CRAB', 'HILL', 'FOREX', 'MONETA', 'EC', 'RUBIT', 'HCC', 'BRAIN', 'VTX', 'KRC', 'ROYAL', 'LFC', 'ZUR', 'NUBIS', 'ABC', 'BMC', 'TENNET', 'PEC', 'GMX', '32BIT', 'GNJ', 'TEAM', 'SCT', 'LANA', 'ELE', 'GCC', 'AND', 'FC', 'EQUAL', 'SWEET', '2BACCO', 'DKC', 'COC', 'LINK', 'CHOOF', 'CSH', 'RUSTBITS', 'SUMO', 'TRX', 'ZCL', 'RYCN', 'PCS', 'NBIT', 'WINE', 'DAR', 'IFLT', 'ZECD', 'ZXT', 'WASH', 'TESLA', 'LUCKY', 'TPG', 'LEO', 'MDT', 'CBD', 'PEX', 'INSANE', 'GNT', 'PEN', 'FAME', 'LIV', 'SP', 'MEGA', 'VRS', 'ALC', 'DOGETH', 'KLC', 'BTLC', 'DRM8', 'FIST', 'EBZ', '365', 'DRS', 'FGZ', 'BOSON', 'ATX', 'PNC', 'BRDD', 'TIME', 'BIP', 'EMB', 'BTTF', 'DLR', 'CSMIC', 'SCASH', 'XEN', 'JIO', 'IW', 'JNS', 'TRICK', 'DCRE', 'FRE', 'NPC', 'PLNC', 'DGMS', 'ICOB', 'XCRE', 'UR', 'MTLM3', 'ODNT', 'EUC', 'CCX', 'SEEDS', 'TKS', 'SHORTY', 'PCM', 'KC', 'CORAL', 'BamitCoin', 'NXC', 'MONEY', 'HSP', 'HZT', 'CS', 'XSP', 'BULLS', 'INCNT', 'ICON', 'NIC', 'ACN', 'XNG', 'XCI', 'YBC', 'DANK', 'GIVE', 'DT', 'CETI', 'SUP', 'XPD', 'CHASH', 'SPR', 'NXTI', 'WOLF', 'XDP', 'LOOK', 'MMXVI', 'MIS', 'WOP', 'CQST', 'IMPS', 'IN', 'CHIEF', 'GOAT', 'ANAL', 'RC', 'PX', '2015', 'OPTION', 'AV', 'UNITS', 'HEEL', 'DASH', 'LTC', 'GAKH', 'S8C', 'LVG', 'LTCR', 'QBC', 'XPRO', 'GIFT', 'VIDZ', 'INC', 'PTA', 'ACID', 'ZLQ', 'RNC', 'PASC', 'TWIST', 'PAYP', 'DETH', 'YAY', 'YES', 'LENIN', 'MRSA', 'OS76', 'BOSS', 'MKR', 'BIC', 'CRPS', 'MOTO', 'NTCC', 'XNC*', 'SPKTR', 'MAC', 'SEL', 'NOO', 'CHAO', 'YMC', 'JOK', 'GBIT', 'TEC', 'BOMB', 'RIDE', 'KED', 'CNO', 'WEALTH', 'XSPEC', 'PEPECASH', 'CLICK', 'ELS', 'KUSH', 'ERY', 'PLU', 'PRES', 'OPES', 'WCT', 'UBQ', 'RATIO', 'AC', 'ACOIN', 'AERO', 'BAN', 'ALF', 'NICE', 'SMF', 'AGS', 'AMC', 'ALN', 'ANNC', 'APEX', 'ARCH', 'ARI', 'AUR', 'AXR', 'BCX', 'BEN', 'BET', 'BLK', 'BQC', 'MOON', 'QTL', 'ENRG', 'RIC', 'DGC', 'LIMX', 'TECH', 'CIR', 'LEPEN', 'ROUND', 'ARG', 'MAR', 'MARX', 'TAT', 'HAZE', 'PRX', 'BTCD', 'NRC', 'IMPCH', 'BTM', 'BUK', 'CACH', 'CAIX', 'CANN', 'CAP', 'CASH', 'CCN', 'CIN', 'CINNI', 'CXC', 'CLAM', 'CLR', 'CMC', 'CNC', 'CNL', 'COMM', 'COOL', 'CRACK', 'CRAIG', 'CRC', 'CRYPT', 'CSC', 'DEM', 'DMD', 'DOGE', 'DRKC', 'DSB', 'EAC', 'EFL', 'ELC', 'EMD', 'EXCL', 'EXE', 'EZC', 'FLAP', 'FC2', 'FFC', 'FIBRE', 'FLT', 'FRAC', 'ERR', 'TIC', 'NUKE', 'EOC', 'SFC', 'JANE', 'PARA', 'MM', 'BXC', 'NDOGE', 'FRC', 'FRK', 'FST', 'FTC', 'ZBC', 'MLN', 'GDC', 'ORO', 'GLC', 'GLD', 'GLX', 'GLYPH', 'GML', 'GUE', 'HAL', 'HBN', 'HUC', 'HVC', 'HYP', 'ICB', 'IFC', 'IXC', 'JBS', 'JKC', 'JUDGE', 'KDC', 'KGC', 'LGD*', 'LK7', 'LKY', 'LSD', 'LTB', 'LTCD', 'LTCX', 'LXC', 'LYC', 'MAX', 'MEC', 'MED', 'ALEX', 'TBCX', 'MIN', 'MCAR', 'THS', 'ACES', 'MINT', 'MN', 'MRY', 'MYST*', 'MZC', 'NAN', 'NAUT', 'NBL', 'NEC', 'NET', 'NMB', 'NRB', 'NOBL', 'NRS', 'NMC', 'NYAN', 'UAEC', 'EA', 'ORB', 'PIE', 'OSC', 'PHS', 'POINTS', 'PSEUD', 'PXC', 'PYC', 'RIPO', 'RPC', 'RT2', 'RYC', 'RZR', 'SAT2', 'SBC', 'SDC', 'SFR', 'SHADE', 'SHLD', 'SILK', 'SLG', 'SMC', 'SOLE', 'SPA', 'SPT', 'SRC', 'SSV', 'XLM', 'SYNC', 'SYS', 'TAG', 'TAK', 'TES', 'TGC', 'TIT', 'TOR', 'TRC', 'TTC', 'ULTC', 'UNB', 'UNO', 'URO', 'CREA', 'WISC', 'BVC', 'FIND', 'MLITE', 'STALIN', 'TSE', 'USDE', 'UTC', 'UTIL', 'VDO', 'VOOT', 'VRC', 'WDC', 'XAI', 'XBOT', 'XBS', 'XCASH', 'XCR', 'XJO', 'XLB', 'XPM', 'XPY', 'XRP', 'XST', 'XXX', 'YAC', 'ZCC', 'ZED', 'ZRC*', 'VLTC', 'BIOB', 'PASL', 'CHAT', 'CDN', 'EKN', 'XAU', 'TMC', 'XEM', 'BURST', 'SJCX', 'HUGE', 'XCP', 'MAID', '007', 'NSR', 'MONA', 'CELL', 'TEK', 'TRON', 'SLING', 'BLOCK', 'XSI', 'GHS', 'BYC', 'GRC', 'GEMZ', 'KTK', 'HZ', 'FAIR', 'QORA', 'NLG', 'RBY', 'TPAY', 'PTC', 'NETKO', 'ZOI', 'WBB', 'SSD', 'XTC', 'FLO', 'MMXIV', '8BIT', 'STV', 'EBS', 'AM', 'AMBER', 'JPC', 'NKT', 'J', 'GHC', 'ABY', 'MTR', 'TRI', 'SWARM', 'BBR', 'BTCRY', 'BCR', 'XPB', 'XDQ', 'FLDC', 'SLR', 'SMAC', 'TRK', 'U', 'UIS', 'CYP', 'ASN', 'OC', 'GSM', 'FSC2', 'NXTTY', 'QBK', 'BLC', 'MARYJ', 'OMC', 'GIG', 'CC', 'BITS', 'LTBC', 'NEOS', 'HYPER', 'VTR', 'METAL', 'GRE', 'XG', 'CHILD', 'BOOM', 'MINE', 'ROS', 'UNAT', 'SLM', 'GAIA', 'FCN', 'XCN', 'CURE', 'GMC', 'MMC', 'HONEY', 'CYC', 'OCTO', 'MSC', 'MXT', 'EGG', 'C2', 'GSX', 'CAM', 'RBR', 'XQN', 'ICASH', 'NODE', 'SOON', 'BTMI', 'EVENT', '1CR', 'VIOR', 'XCO', 'MRS', 'DTB', 'VEG', 'MBIT', 'EDG', 'B@', 'BEST', 'CHC', 'PLANET', 'DUCK', 'BNX', 'BSTK', 'AMIS', 'KAYI', 'XVP', 'BOAT', 'IMX', 'CJC', 'AMY', 'QBT', 'SRC*', 'EB3', 'XVE', 'FAZZ', 'APT', 'BLAZR', 'ARPA', 'BNB*', 'UNI', 'VIRAL', 'EQM', 'ISL', 'QSLV', 'XWT', 'XNA', 'RDN', 'SKB', 'BSTY', 'FCS', 'GAM', 'NXS', 'CESC', 'TWLV', 'EAGS', 'DARK', 'MWC', 'MARS', 'XMS', 'SPHR', 'SIGU', 'BTX*', 'DCC', 'M1', 'DB', 'CTO', 'WGO', 'INPAY', 'ETT', 'WBTC', 'VISIO', 'GOT', 'CXT', 'EMPC', 'EDGE', 'FUTC', 'GLOBE', 'TAM', 'MRP', 'CREVA', 'XFC', 'NANAS', 'LOG', 'XCE', 'ACP', 'GNO', 'LGD', 'BUCKS', 'RAIN', 'WSX', 'IEC', 'IMS', 'ARGUS', 'TKN', 'BTCS', 'PROC', 'WRC*', 'BENJI', 'BCAP', 'DUO', 'RBX', 'DRZ', 'BUCKS*', 'BSC', 'DRKT', 'CIRC', 'GRW', 'APX', 'MILO', 'ILC', 'MRT', 'NKA', 'VERSA', 'EPY', 'SQL', 'POLY', 'PIGGY', 'CHA', 'MIL', 'CRW', 'GEN', 'XPH', 'GRM', 'QTZ', 'ARB', 'LTS', 'SPC', 'GP', 'BITZ', 'DUB', 'GRAV', 'BOB', 'HEDG', 'IOU', 'PZM', 'PHR', 'ANT', 'PUPA', 'RICE', 'XCT', 'DEA', 'RED', 'ZSE', 'CTIC', 'BITOK', 'MUU', 'INF8', 'MNE', 'SONG', 'XSEED', 'AXIOM', 'RBT', 'CHIP', 'SPEC', 'GRAM', 'UNC', 'SPRTS', 'ZNY', 'BTQ', 'STR*', 'GHOUL', 'HNC', 'KNC', 'DLT', 'BNB', 'FDC', 'SALT', 'STOCKBET', 'IGNIS', 'CFT*', 'XP', 'AEON', 'SRT', 'CCT*', 'DRC', 'UFO', 'NAV', 'ADA', 'SYC', 'WOLK', 'WIC', 'SIGT', 'PND', 'MAT*', 'SUB*', 'BIS', 'KEX', 'FLASH', 'GRF', 'XUC*', 'ATKN', 'AVT', '8S', 'RHEA', 'TIE', 'NRN', 'HDG', 'FLIK', 'EVC', 'VSX', 'OLV', 'XNC', 'KAPU', 'ALIS', 'SENSE', 'ZNT', 'WRT', 'IOP', 'VOISE', 'DGB', 'SND', 'TMT', 'PTS*', 'EZM', 'NTRN', 'ARBI', 'TZC', 'AST*', 'AST', 'CND*', 'NTM', 'FND', 'HXT', 'REQ', 'ARENA', 'ATCC', 'MCI', 'VIBE', 'BAC*', 'PPP', 'COLX', 'WILD', 'ELTC2', 'COV*', 'AIR*', 'GXC*', 'ZNA', 'XCS', 'BQ', 'QVT', 'COB', 'MTN', 'POLL', 'TRIP', 'ZSC', 'RPX', 'MDA', 'AIR', 'AURS', 'ATS', 'RGC', 'SNM', 'EBET', 'VERI', 'B3', 'VEE', '3DES', 'R', 'RUP', 'WHL', 'VIA', 'BTG*', 'XMY', 'WOMEN', 'MAY', 'FRAZ', 'RNDR', 'BTB', 'EDDIE', 'NAMO', 'BLU', 'XMR', 'ZEC', 'BTS', 'CORE', 'BTE', 'BCN', 'UP', '42', 'CTX', 'CASH*', 'BLUE', 'IOT', 'PRG', 'BM*', 'ETG', 'LA', 'CPAY', 'ACE', 'GJC', 'LUX*', 'DAS', 'ECASH', 'DCN', 'DENT', 'CABS', 'ETP', 'XRB', 'BRAT', 'PRP', 'TKT', 'PLM', 'XRED', 'AMT', 'GRS', 'ESP', 'VTC', 'ELITE', 'WPR', 'XIOS', 'MNC', 'DRGN', 'BON', 'ETN', 'ENG', 'DTT*', 'ODMC', 'KEY', 'XNN', 'BT1', 'BT2', 'ARK', 'ZAB', 'BAR', 'VRP*', 'KEK', 'ATM', 'ALTCOM', 'UGT', 'DATA', 'ROCK', 'EVR', 'EXN', 'TRCT', 'BTCRED', 'WABI', 'POS', 'AR*', 'DTC', 'DTC*', 'CLD', 'BDR', 'SC', 'DUTCH', 'RUPX', 'ALTOCAR', 'MNT', 'TIO', 'UKG', 'HNC*', 'PURA', 'DTT', 'BCPT', 'ART', 'XBL', 'ARC', 'AID', 'PRE*', 'MOBI', 'OTN', 'NULS', 'PHR*', 'REBL', 'LCASH', 'NEOG', 'CFD', 'ATFS', 'CIX', 'CRTM', 'GCN', 'ETH', 'ZEPH', 'CMS', 'WSC', 'DBET', 'XIN', 'LIFE', 'NEWB', 'BKX', 'MTX', 'CREDO', 'MSR', 'EBTC', 'HST', 'CJT', 'ENV', 'ELT', 'UTK', 'H2O', 'JCR', 'RCN', 'POWR', 'ENJ', 'RLC', 'SUB', 'GUP', 'TIX', 'MDC*', 'ELLA', 'PIRL', 'PRIX', 'MER', 'APPC', 'XPTX', 'FLP', 'SRN', 'COIN*', 'COIN', 'WAX', 'ETK', 'STORJ', 'BAY', 'EMC2', 'BTX', 'XVG', 'RDN*', 'CTR', 'VIB', 'LSK', 'VEN', 'BITB', 'WC', 'ASTRO', 'SNT', 'MCAP', 'CLUB', 'GMT', 'SUPER', 'PIVX', 'BCCOIN', 'ICX', 'TX', 'VOX', 'DBIX', 'DEEP', 'ICOS', 'ATL', 'RKC', 'ZENI', 'ATMS', 'PIX', 'BOST', 'XGR', 'ADST', 'ZER', 'SOAR', 'KRB', 'ION', 'NOTE', 'OMNI', 'EDO', 'TRUST', 'SBD', 'ETC', 'CSNO', 'BCY', 'NBT', 'INS', 'SPHTX', 'DON', 'DGPT', 'GRID*', 'ARNA*', 'ESC*', 'JPC*', 'ECHT', 'ACT', 'EXP', 'AMP', 'EVX', 'CAN*', 'HTML5', 'MTH', 'AE', 'ADT', 'KOLION', 'TRST', 'MANA', 'XUC', 'BCH', 'QRL', 'VIU', 'DOVU', 'LTD', 'THC', 'VSL', 'QWARK', 'GRID', 'NET*', 'INDI', 'HAC', 'ETHD', 'GFT', 'PINK', 'HVN', 'STX', 'XMG', 'INN', 'XAUR', 'MUSIC', 'CNX', 'VIVO', 'DFT', 'NMR', 'XID', 'EBST', 'XBY', 'POSW', 'ODN', 'ELM', 'WAND', 'AUTH', 'BCF', 'MEME', 'XHI', 'SAFEX', 'CFI', 'PPC', 'BELA', 'IOC', 'OAX', 'NLC2', 'LUN', 'KORE', 'AMB', 'SWIFT', 'VMC', 'ADC', 'CRAVE', 'DP', '808', 'HOLD', 'SMART', 'CRDS', 'DRXNE', 'xGOx', 'ONION', 'NEBL', 'YOC', 'RNS', 'XMCC', 'DVC', 'HUSH', 'MNZ', 'EXY', 'QRK', 'GVT', 'CLOAK', 'XC', 'MGO', 'PLAY', 'TKR', 'WYR', 'SCT*', 'CAG', 'CND', 'NTO', 'DAY', 'ELIX', 'LRC', 'REX', 'BLX', 'MRV', 'IND', 'IFT', 'SAN', 'PBT', 'BET*', 'DICE', 'DGD', 'INXT', 'ARN', 'PRC', 'JVY', 'RIYA', 'KICK', 'POE', 'MYST', 'PTOY', 'DCT', 'CRB', 'KCS', 'TAAS', 'ICE', 'EBCH', 'QCN', 'MCN', 'EPY*', '2GIVE', 'RDD', 'SWT', 'XVC', 'STRAT', 'MOD', 'STC', 'QSP', 'WEB', 'DBR', 'MTK', 'GBYTE', 'ETBS', 'PAY', 'NYC', 'BTG', 'EGC', 'BPL', 'CNT', 'NXT', 'HSR', 'MAD', 'CWXT', 'OTX', 'START', 'STEEM', 'DOT', 'GOLOS', 'NVC', 'REC', 'XWC', 'INFX', 'BLRY', 'PUT', 'KNC*', 'TCR', 'GSY', 'LOC', 'GUESS', 'XTZ', 'DRA', 'PART', 'BIOS', 'TAP', 'SCR', 'WISH', 'LEV', 'GBX', 'SHIFT', 'PTC*', 'LUX', 'OXY', 'RISE', 'XDN', 'CAPP', 'YOYOW', 'FUEL', 'CDT', 'FRST', 'ATB', 'PAC', 'DIME', 'STU', 'BAC', 'XID*', 'FIRST', 'TER', 'ASAFE2', 'CRE', 'LINDA', 'ECO', 'BUZZ', 'SMT', 'REE', 'PURE', 'BBT*', 'BBT', 'PAK', 'BTZ', 'BTCZ', 'LDOGE', 'BSTAR', 'ARCO', 'XLR', 'VOLT', 'ETHS', '1337', 'HPC', 'SCL', 'ICC', 'DBTC', 'VPRC', 'BTA', 'KURT', 'BHC*', 'UMC', 'ADL', 'SDP', 'FLLW', 'MBT', 'GAT', 'MDL', 'BTDX', 'ABT', 'NPX', 'VIP', 'MND', 'CCRB', 'CSTL', 'MNX', 'LEA', 'MCRN', 'XGB', 'SYNX', 'RADI', 'HXX', 'SKR', '8BT', 'RCN*', 'SKR*', 'ENT', 'BASH', 'AMS', 'JNT', 'KOBO', 'OPAL', 'FRN', 'HODL', 'NDC', 'DRT', 'PKB', 'ZET', 'IXT', 'SNRG', 'LOAN*', 'BDL', 'CAT*', 'HMP', 'HMQ', 'TAJ', 'SXC', 'GAME', 'SMLY', '888', 'CBX', 'RIPT', 'GEO', 'ALQO', 'KNC**', 'QASH', 'BQX', 'XBC', 'POT', 'MAG*', 'MAG', 'STEX', 'UFR', 'LOCI', 'LAB*', 'LMC', 'DMT', 'WRC', 'BON*', 'DAT', 'XSB', 'PYN', 'PKT', 'ERT', 'SNOV', 'C20', 'VZT', 'ROK', 'EARTH', 'ST', 'ILCT', 'ROCK*', 'WIZ', 'NEU*', 'CAS', 'CLOUT', 'MAT', 'SHP', 'AVE', 'COV', 'REA', 'OPP', 'GLA', 'DTR', 'CZC', 'CABS*', 'GES', 'BNK', 'EOS', 'AXT', 'CAV', 'KEY*', 'DEB', 'TRIA', 'FLIXX', 'PBL', 'PFR', 'ECA', 'TAU', 'LAB'])"
      ]
     },
     "execution_count": 4,
     "metadata": {},
     "output_type": "execute_result"
    }
   ],
   "source": [
    "cc_list.keys()"
   ]
  },
  {
   "cell_type": "code",
   "execution_count": 5,
   "metadata": {},
   "outputs": [
    {
     "data": {
      "text/plain": [
       "{'Algorithm': 'X11',\n",
       " 'CoinName': 'PizzaCoin',\n",
       " 'FullName': 'PizzaCoin (PIZZA)',\n",
       " 'FullyPremined': '0',\n",
       " 'Id': '25830',\n",
       " 'ImageUrl': '/media/351397/pizza.png',\n",
       " 'Name': 'PIZZA',\n",
       " 'PreMinedValue': 'N/A',\n",
       " 'ProofType': 'PoW',\n",
       " 'SortOrder': '707',\n",
       " 'Sponsored': False,\n",
       " 'Symbol': 'PIZZA',\n",
       " 'TotalCoinSupply': '25000000',\n",
       " 'TotalCoinsFreeFloat': 'N/A',\n",
       " 'Url': '/coins/pizza/overview'}"
      ]
     },
     "execution_count": 5,
     "metadata": {},
     "output_type": "execute_result"
    }
   ],
   "source": [
    "cc_list['PIZZA']"
   ]
  },
  {
   "cell_type": "code",
   "execution_count": 6,
   "metadata": {},
   "outputs": [
    {
     "data": {
      "text/plain": [
       "[{'Algorithm': 'SHA256',\n",
       "  'CoinName': 'BitBoss',\n",
       "  'FullName': 'BitBoss (BOSS)',\n",
       "  'FullyPremined': '0',\n",
       "  'Id': '41125',\n",
       "  'ImageUrl': '/media/1382289/boss.png',\n",
       "  'Name': 'BOSS',\n",
       "  'PreMinedValue': 'N/A',\n",
       "  'ProofType': 'PoW/PoS',\n",
       "  'SortOrder': '1031',\n",
       "  'Sponsored': False,\n",
       "  'Symbol': 'BOSS',\n",
       "  'TotalCoinSupply': 'N/A',\n",
       "  'TotalCoinsFreeFloat': 'N/A',\n",
       "  'Url': '/coins/boss/overview'},\n",
       " {'Algorithm': 'N/A',\n",
       "  'CoinName': 'MegaFlash',\n",
       "  'FullName': 'MegaFlash (MEGA)',\n",
       "  'FullyPremined': '1',\n",
       "  'Id': '33393',\n",
       "  'ImageUrl': '/media/352020/mega.png',\n",
       "  'Name': 'MEGA',\n",
       "  'PreMinedValue': 'N/A',\n",
       "  'ProofType': 'N/A',\n",
       "  'SortOrder': '906',\n",
       "  'Sponsored': False,\n",
       "  'Symbol': 'MEGA',\n",
       "  'TotalCoinSupply': '300000',\n",
       "  'TotalCoinsFreeFloat': 'N/A',\n",
       "  'Url': '/coins/mega/overview'}]"
      ]
     },
     "execution_count": 6,
     "metadata": {},
     "output_type": "execute_result"
    }
   ],
   "source": [
    "cc.get_info(['BOSS', 'MEGA'])"
   ]
  },
  {
   "cell_type": "code",
   "execution_count": 7,
   "metadata": {},
   "outputs": [
    {
     "data": {
      "text/plain": [
       "[PriceUpdate(exchange='CCCAGG', asset='BTC', currency='USD', price=9650.49),\n",
       " PriceUpdate(exchange='CCCAGG', asset='ETH', currency='USD', price=476.49),\n",
       " PriceUpdate(exchange='CCCAGG', asset='XMR', currency='USD', price=164.16),\n",
       " PriceUpdate(exchange='CCCAGG', asset='ZEC', currency='USD', price=337.78)]"
      ]
     },
     "execution_count": 7,
     "metadata": {},
     "output_type": "execute_result"
    }
   ],
   "source": [
    "cc.get_prices(['BTC', 'ETH', 'XMR', 'ZEC'], 'USD')"
   ]
  },
  {
   "cell_type": "code",
   "execution_count": 8,
   "metadata": {},
   "outputs": [
    {
     "data": {
      "text/plain": [
       "[Ticker(exchange='CCCAGG', asset='BTC', currency='USD', price=9650.49, best_bid=nan, best_ask=nan, volume_24h=118355.9157006892, value_24h=1121739518.3008847, open_24h=9141.86, high_24h=9750.9, low_24h=9087.71),\n",
       " Ticker(exchange='CCCAGG', asset='BTC', currency='EUR', price=8092.21, best_bid=nan, best_ask=nan, volume_24h=20856.961920079957, value_24h=164780541.8210368, open_24h=7592.89, high_24h=8153.26, low_24h=7553.23),\n",
       " Ticker(exchange='CCCAGG', asset='ETH', currency='USD', price=476.49, best_bid=nan, best_ask=nan, volume_24h=617017.7428879623, value_24h=291663906.40943116, open_24h=461.08, high_24h=490.09, low_24h=451.98),\n",
       " Ticker(exchange='CCCAGG', asset='ETH', currency='EUR', price=397.58, best_bid=nan, best_ask=nan, volume_24h=103780.61971748002, value_24h=40463757.07238945, open_24h=380.21, high_24h=404.45, low_24h=373.03)]"
      ]
     },
     "execution_count": 8,
     "metadata": {},
     "output_type": "execute_result"
    }
   ],
   "source": [
    "cc.get_tickers('BTC,ETH', 'USD,EUR')"
   ]
  },
  {
   "cell_type": "code",
   "execution_count": 9,
   "metadata": {},
   "outputs": [
    {
     "data": {
      "text/plain": [
       "[{'asset': 'BTC',\n",
       "  'close': 5726.61,\n",
       "  'currency': 'USD',\n",
       "  'high': 5871.04,\n",
       "  'low': 5654.8,\n",
       "  'open': 5764.56,\n",
       "  'time': 1509148800,\n",
       "  'volumefrom': 53232.17,\n",
       "  'volumeto': 305611140.99},\n",
       " {'asset': 'BTC',\n",
       "  'close': 6147.52,\n",
       "  'currency': 'USD',\n",
       "  'high': 6295.43,\n",
       "  'low': 5679.37,\n",
       "  'open': 5726.61,\n",
       "  'time': 1509235200,\n",
       "  'volumefrom': 163055.75,\n",
       "  'volumeto': 966990808.93},\n",
       " {'asset': 'BTC',\n",
       "  'close': 6124.28,\n",
       "  'currency': 'USD',\n",
       "  'high': 6226.18,\n",
       "  'low': 6018.97,\n",
       "  'open': 6147.7,\n",
       "  'time': 1509321600,\n",
       "  'volumefrom': 78624.31,\n",
       "  'volumeto': 481600502.95},\n",
       " {'asset': 'BTC',\n",
       "  'close': 6451.24,\n",
       "  'currency': 'USD',\n",
       "  'high': 6467.2,\n",
       "  'low': 6090.83,\n",
       "  'open': 6124.28,\n",
       "  'time': 1509408000,\n",
       "  'volumefrom': 101249.62,\n",
       "  'volumeto': 637838767.02},\n",
       " {'asset': 'BTC',\n",
       "  'close': 6737.78,\n",
       "  'currency': 'USD',\n",
       "  'high': 6738.74,\n",
       "  'low': 6355,\n",
       "  'open': 6449.1,\n",
       "  'time': 1509494400,\n",
       "  'volumefrom': 133191.93,\n",
       "  'volumeto': 869798619.79},\n",
       " {'asset': 'BTC',\n",
       "  'close': 7024.81,\n",
       "  'currency': 'USD',\n",
       "  'high': 7339.91,\n",
       "  'low': 6737.77,\n",
       "  'open': 6737.78,\n",
       "  'time': 1509580800,\n",
       "  'volumefrom': 238796.19,\n",
       "  'volumeto': 1663170039.86},\n",
       " {'asset': 'BTC',\n",
       "  'close': 7152.12,\n",
       "  'currency': 'USD',\n",
       "  'high': 7445.62,\n",
       "  'low': 6938.93,\n",
       "  'open': 7024.81,\n",
       "  'time': 1509667200,\n",
       "  'volumefrom': 154886.75,\n",
       "  'volumeto': 1120978013.29},\n",
       " {'asset': 'BTC',\n",
       "  'close': 7363.8,\n",
       "  'currency': 'USD',\n",
       "  'high': 7492.24,\n",
       "  'low': 6957.84,\n",
       "  'open': 7146.98,\n",
       "  'time': 1509753600,\n",
       "  'volumefrom': 106602.67,\n",
       "  'volumeto': 773371754.85},\n",
       " {'asset': 'BTC',\n",
       "  'close': 7389.55,\n",
       "  'currency': 'USD',\n",
       "  'high': 7599.44,\n",
       "  'low': 7284.33,\n",
       "  'open': 7363.8,\n",
       "  'time': 1509840000,\n",
       "  'volumefrom': 105727.2,\n",
       "  'volumeto': 789287755.18},\n",
       " {'asset': 'BTC',\n",
       "  'close': 6959.23,\n",
       "  'currency': 'USD',\n",
       "  'high': 7429.7,\n",
       "  'low': 6934.73,\n",
       "  'open': 7389.55,\n",
       "  'time': 1509926400,\n",
       "  'volumefrom': 159688.48,\n",
       "  'volumeto': 1148125488.89},\n",
       " {'asset': 'BTC',\n",
       "  'close': 7102.75,\n",
       "  'currency': 'USD',\n",
       "  'high': 7222.37,\n",
       "  'low': 6957.8,\n",
       "  'open': 6959.27,\n",
       "  'time': 1510012800,\n",
       "  'volumefrom': 101044.57,\n",
       "  'volumeto': 716798409.14},\n",
       " {'asset': 'BTC',\n",
       "  'close': 7444.36,\n",
       "  'currency': 'USD',\n",
       "  'high': 7869.1,\n",
       "  'low': 7026.97,\n",
       "  'open': 7102.23,\n",
       "  'time': 1510099200,\n",
       "  'volumefrom': 220224.38,\n",
       "  'volumeto': 1632547465.88},\n",
       " {'asset': 'BTC',\n",
       "  'close': 7129.59,\n",
       "  'currency': 'USD',\n",
       "  'high': 7457.12,\n",
       "  'low': 7040.83,\n",
       "  'open': 7444.36,\n",
       "  'time': 1510185600,\n",
       "  'volumefrom': 126769.9,\n",
       "  'volumeto': 915963933.06},\n",
       " {'asset': 'BTC',\n",
       "  'close': 6565.8,\n",
       "  'currency': 'USD',\n",
       "  'high': 7318.97,\n",
       "  'low': 6406.05,\n",
       "  'open': 7129.59,\n",
       "  'time': 1510272000,\n",
       "  'volumefrom': 222001.18,\n",
       "  'volumeto': 1513421266.51},\n",
       " {'asset': 'BTC',\n",
       "  'close': 6339.86,\n",
       "  'currency': 'USD',\n",
       "  'high': 6821.5,\n",
       "  'low': 6197.87,\n",
       "  'open': 6565.8,\n",
       "  'time': 1510358400,\n",
       "  'volumefrom': 135719.07,\n",
       "  'volumeto': 878096915.35},\n",
       " {'asset': 'BTC',\n",
       "  'close': 5878.13,\n",
       "  'currency': 'USD',\n",
       "  'high': 6490.53,\n",
       "  'low': 5493.64,\n",
       "  'open': 6339.87,\n",
       "  'time': 1510444800,\n",
       "  'volumefrom': 269832.87,\n",
       "  'volumeto': 1629165385.9},\n",
       " {'asset': 'BTC',\n",
       "  'close': 6522.45,\n",
       "  'currency': 'USD',\n",
       "  'high': 6760.15,\n",
       "  'low': 5828.34,\n",
       "  'open': 5878.09,\n",
       "  'time': 1510531200,\n",
       "  'volumefrom': 178340.89,\n",
       "  'volumeto': 1135256036.03},\n",
       " {'asset': 'BTC',\n",
       "  'close': 6597.06,\n",
       "  'currency': 'USD',\n",
       "  'high': 6728.59,\n",
       "  'low': 6419.18,\n",
       "  'open': 6522.45,\n",
       "  'time': 1510617600,\n",
       "  'volumefrom': 96502.09,\n",
       "  'volumeto': 634604991.54},\n",
       " {'asset': 'BTC',\n",
       "  'close': 7283.22,\n",
       "  'currency': 'USD',\n",
       "  'high': 7330.06,\n",
       "  'low': 6596.94,\n",
       "  'open': 6597.06,\n",
       "  'time': 1510704000,\n",
       "  'volumefrom': 131120.23,\n",
       "  'volumeto': 922959468.47},\n",
       " {'asset': 'BTC',\n",
       "  'close': 7853.68,\n",
       "  'currency': 'USD',\n",
       "  'high': 7964.64,\n",
       "  'low': 7119.17,\n",
       "  'open': 7283.02,\n",
       "  'time': 1510790400,\n",
       "  'volumefrom': 133937.8,\n",
       "  'volumeto': 1010130763.21},\n",
       " {'asset': 'BTC',\n",
       "  'close': 7699.95,\n",
       "  'currency': 'USD',\n",
       "  'high': 8000.19,\n",
       "  'low': 7534.7,\n",
       "  'open': 7853.68,\n",
       "  'time': 1510876800,\n",
       "  'volumefrom': 117347.03,\n",
       "  'volumeto': 917599923.24},\n",
       " {'asset': 'BTC',\n",
       "  'close': 7780.91,\n",
       "  'currency': 'USD',\n",
       "  'high': 7857.52,\n",
       "  'low': 7458.9,\n",
       "  'open': 7699.95,\n",
       "  'time': 1510963200,\n",
       "  'volumefrom': 74382.12,\n",
       "  'volumeto': 571121111},\n",
       " {'asset': 'BTC',\n",
       "  'close': 8042.64,\n",
       "  'currency': 'USD',\n",
       "  'high': 8100.87,\n",
       "  'low': 7675.41,\n",
       "  'open': 7781.02,\n",
       "  'time': 1511049600,\n",
       "  'volumefrom': 68618.85,\n",
       "  'volumeto': 541391321.61},\n",
       " {'asset': 'BTC',\n",
       "  'close': 8244.69,\n",
       "  'currency': 'USD',\n",
       "  'high': 8294.12,\n",
       "  'low': 7947.28,\n",
       "  'open': 8042.64,\n",
       "  'time': 1511136000,\n",
       "  'volumefrom': 75703.64,\n",
       "  'volumeto': 617354329.03},\n",
       " {'asset': 'BTC',\n",
       "  'close': 8099.97,\n",
       "  'currency': 'USD',\n",
       "  'high': 8368.36,\n",
       "  'low': 7819.06,\n",
       "  'open': 8245.87,\n",
       "  'time': 1511222400,\n",
       "  'volumefrom': 115454.28,\n",
       "  'volumeto': 938345413.24},\n",
       " {'asset': 'BTC',\n",
       "  'close': 8234.55,\n",
       "  'currency': 'USD',\n",
       "  'high': 8304.37,\n",
       "  'low': 8091.63,\n",
       "  'open': 8099.92,\n",
       "  'time': 1511308800,\n",
       "  'volumefrom': 65811.68,\n",
       "  'volumeto': 539697375.37},\n",
       " {'asset': 'BTC',\n",
       "  'close': 8013.41,\n",
       "  'currency': 'USD',\n",
       "  'high': 8266.55,\n",
       "  'low': 8012.35,\n",
       "  'open': 8234.5,\n",
       "  'time': 1511395200,\n",
       "  'volumefrom': 68010.7,\n",
       "  'volumeto': 555465146.26},\n",
       " {'asset': 'BTC',\n",
       "  'close': 8200.8,\n",
       "  'currency': 'USD',\n",
       "  'high': 8332.94,\n",
       "  'low': 7900.17,\n",
       "  'open': 8013.38,\n",
       "  'time': 1511481600,\n",
       "  'volumefrom': 72994.63,\n",
       "  'volumeto': 595710405.8},\n",
       " {'asset': 'BTC',\n",
       "  'close': 8754.69,\n",
       "  'currency': 'USD',\n",
       "  'high': 8761.98,\n",
       "  'low': 8153.7,\n",
       "  'open': 8203.45,\n",
       "  'time': 1511568000,\n",
       "  'volumefrom': 84670.41,\n",
       "  'volumeto': 718483679.6},\n",
       " {'asset': 'BTC',\n",
       "  'close': 9318.42,\n",
       "  'currency': 'USD',\n",
       "  'high': 9474.62,\n",
       "  'low': 8746.56,\n",
       "  'open': 8754.62,\n",
       "  'time': 1511654400,\n",
       "  'volumefrom': 85891.98,\n",
       "  'volumeto': 782499976.71},\n",
       " {'asset': 'BTC',\n",
       "  'close': 9650.16,\n",
       "  'currency': 'USD',\n",
       "  'high': 9733.61,\n",
       "  'low': 9316.84,\n",
       "  'open': 9318.42,\n",
       "  'time': 1511740800,\n",
       "  'volumefrom': 74148.46,\n",
       "  'volumeto': 710605813.01}]"
      ]
     },
     "execution_count": 9,
     "metadata": {},
     "output_type": "execute_result"
    }
   ],
   "source": [
    "cc.get_historical_data('BTC', 'USD')"
   ]
  },
  {
   "cell_type": "markdown",
   "metadata": {},
   "source": [
    "## Subscriptions\n",
    "\n",
    "It is also possible to subscribe to regular updates."
   ]
  },
  {
   "cell_type": "code",
   "execution_count": 10,
   "metadata": {},
   "outputs": [],
   "source": [
    "subs = cc.subscribe(['BTC'], ['USD'], channels='tickers')"
   ]
  },
  {
   "cell_type": "code",
   "execution_count": 11,
   "metadata": {},
   "outputs": [
    {
     "data": {
      "text/plain": [
       "{'CCCAGG~BTC~USD~ticker': Subscription(exchange='CCCAGG', asset='BTC', currency='USD', channel='ticker', client=CryptoCompareRestClient(cache_dir=None, requester=Requester()), channel_info={'channel': 'get_tickers'}, raw_stream=<Stream>, event_stream=<Stream>, handlers=[<function CryptoCompareRestClient.parse_price at 0x0000024BF99B3620>, <function CryptoCompareRestClient.parse_ticker at 0x0000024BF99B36A8>])}"
      ]
     },
     "execution_count": 11,
     "metadata": {},
     "output_type": "execute_result"
    }
   ],
   "source": [
    "subs"
   ]
  },
  {
   "cell_type": "code",
   "execution_count": 12,
   "metadata": {},
   "outputs": [],
   "source": [
    "sub = subs['CCCAGG~BTC~USD~ticker']"
   ]
  },
  {
   "cell_type": "code",
   "execution_count": 13,
   "metadata": {},
   "outputs": [
    {
     "data": {
      "text/plain": [
       "<sink: print>"
      ]
     },
     "execution_count": 13,
     "metadata": {},
     "output_type": "execute_result"
    }
   ],
   "source": [
    "events = []\n",
    "sub.event_stream.sink(events.append)\n",
    "sub.event_stream.sink(print)"
   ]
  },
  {
   "cell_type": "code",
   "execution_count": null,
   "metadata": {},
   "outputs": [
    {
     "name": "stdout",
     "output_type": "stream",
     "text": [
      "Running subscription CCCAGG~BTC~USD~ticker until kernel is interrupted ...\n"
     ]
    }
   ],
   "source": [
    "# interrupt the kernel stop the subscription\n",
    "import asyncio\n",
    "print(f'Running subscription {sub.topic} until kernel is interrupted ...')\n",
    "asyncio.get_event_loop().run_forever()"
   ]
  },
  {
   "cell_type": "code",
   "execution_count": 15,
   "metadata": {},
   "outputs": [
    {
     "data": {
      "text/plain": [
       "[Ticker(exchange='CCCAGG', asset='BTC', currency='USD', price=9647.99, best_bid=nan, best_ask=nan, volume_24h=118360.93377393924, value_24h=1121788300.6742425, open_24h=9141.86, high_24h=9750.9, low_24h=9087.71),\n",
       " Ticker(exchange='CCCAGG', asset='BTC', currency='USD', price=9647.99, best_bid=nan, best_ask=nan, volume_24h=118360.93377393924, value_24h=1121788300.6742425, open_24h=9141.86, high_24h=9750.9, low_24h=9087.71),\n",
       " Ticker(exchange='CCCAGG', asset='BTC', currency='USD', price=9647.99, best_bid=nan, best_ask=nan, volume_24h=118360.93377393924, value_24h=1121788300.6742425, open_24h=9141.86, high_24h=9750.9, low_24h=9087.71),\n",
       " Ticker(exchange='CCCAGG', asset='BTC', currency='USD', price=9647.99, best_bid=nan, best_ask=nan, volume_24h=118360.93377393924, value_24h=1121788300.6742425, open_24h=9141.86, high_24h=9750.9, low_24h=9087.71)]"
      ]
     },
     "execution_count": 15,
     "metadata": {},
     "output_type": "execute_result"
    }
   ],
   "source": [
    "events"
   ]
  }
 ],
 "metadata": {
  "kernelspec": {
   "display_name": "Python 3",
   "language": "python",
   "name": "python3"
  },
  "language_info": {
   "codemirror_mode": {
    "name": "ipython",
    "version": 3
   },
   "file_extension": ".py",
   "mimetype": "text/x-python",
   "name": "python",
   "nbconvert_exporter": "python",
   "pygments_lexer": "ipython3",
   "version": "3.6.3"
  }
 },
 "nbformat": 4,
 "nbformat_minor": 2
}
